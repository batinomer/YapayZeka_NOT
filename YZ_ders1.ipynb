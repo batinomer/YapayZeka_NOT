{
  "nbformat": 4,
  "nbformat_minor": 0,
  "metadata": {
    "colab": {
      "provenance": []
    },
    "kernelspec": {
      "name": "python3",
      "display_name": "Python 3"
    },
    "language_info": {
      "name": "python"
    }
  },
  "cells": [
    {
      "cell_type": "markdown",
      "source": [
        "03.10.2024 - IGU MYO BİLGİSAYAR TEKNOLOJİSİ PROGRAMI YAPAY ZEKA DERSİ İLK KODLAMA ÇIKTISI\n"
      ],
      "metadata": {
        "id": "hf_r3bexYCdD"
      }
    },
    {
      "cell_type": "code",
      "execution_count": null,
      "metadata": {
        "colab": {
          "base_uri": "https://localhost:8080/"
        },
        "id": "7oQHX_DQXX2D",
        "outputId": "f83b8866-7eb0-4af8-c79b-5a9d22cbe047"
      },
      "outputs": [
        {
          "output_type": "stream",
          "name": "stdout",
          "text": [
            "Merhaba IGU MYO Yapay Zeka Dersi\n"
          ]
        }
      ],
      "source": [
        "print(\"Merhaba IGU MYO Yapay Zeka Dersi\") # Yapay Zeka Dersi"
      ]
    },
    {
      "cell_type": "code",
      "source": [
        "import sys # kütüphane eklemeye yarar\n",
        "print(sys.version)"
      ],
      "metadata": {
        "colab": {
          "base_uri": "https://localhost:8080/"
        },
        "id": "XDbHq2Eijo6c",
        "outputId": "1e60fa07-aaa9-4452-b1b4-fd7dfd55277a"
      },
      "execution_count": null,
      "outputs": [
        {
          "output_type": "stream",
          "name": "stdout",
          "text": [
            "3.10.12 (main, Sep 11 2024, 15:47:36) [GCC 11.4.0]\n"
          ]
        }
      ]
    },
    {
      "cell_type": "code",
      "source": [
        "from google.colab import drive # google colab - drive bağlantısı\n",
        "drive.mount('/content/drive')"
      ],
      "metadata": {
        "colab": {
          "base_uri": "https://localhost:8080/"
        },
        "id": "RmceYSXMk8lJ",
        "outputId": "1b3f6a58-ce58-4e10-8767-6238884e90d4"
      },
      "execution_count": null,
      "outputs": [
        {
          "output_type": "stream",
          "name": "stdout",
          "text": [
            "Mounted at /content/drive\n"
          ]
        }
      ]
    },
    {
      "cell_type": "code",
      "source": [
        "import os\n",
        "os.chdir('/content/drive/My Drive/Yapay_Zeka')\n",
        "!pwd #bize kodun çıktısını dosya olarak veren kod blogudur."
      ],
      "metadata": {
        "colab": {
          "base_uri": "https://localhost:8080/"
        },
        "id": "O8yQkwkbliEx",
        "outputId": "eb46884f-f147-4fe0-b614-5b50fc67d51a"
      },
      "execution_count": null,
      "outputs": [
        {
          "output_type": "stream",
          "name": "stdout",
          "text": [
            "/content/drive/My Drive/Yapay_Zeka\n"
          ]
        }
      ]
    }
  ]
}